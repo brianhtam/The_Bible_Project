{
 "cells": [
  {
   "cell_type": "markdown",
   "metadata": {},
   "source": [
    "# Scrape data\n",
    "Author Brian Tam, 11/04/2020\n",
    "\n",
    "This notebook is used to call Beautiful Soup and scrape most of the necessary information that is needed to understand the [Bible corpus](https://www.kaggle.com/oswinrh/bible) as an intermediate setup to prep it for moding. \n",
    "\n",
    "- The BBE translation was chosen as the primary translation of use. Thus much of the additional research was done on the nature of basic english vocabulary\n",
    "- The names of the books of the Old and New Testiment were scraped to provide labels for each verse"
   ]
  },
  {
   "cell_type": "code",
   "execution_count": 6,
   "metadata": {
    "ExecuteTime": {
     "end_time": "2020-07-28T05:27:09.760102Z",
     "start_time": "2020-07-28T05:27:08.323691Z"
    },
    "execution": {
     "iopub.execute_input": "2020-11-05T00:41:23.668161Z",
     "iopub.status.busy": "2020-11-05T00:41:23.667898Z",
     "iopub.status.idle": "2020-11-05T00:41:23.675689Z",
     "shell.execute_reply": "2020-11-05T00:41:23.674653Z",
     "shell.execute_reply.started": "2020-11-05T00:41:23.668133Z"
    },
    "executionInfo": {
     "elapsed": 1191,
     "status": "ok",
     "timestamp": 1601591063515,
     "user": {
      "displayName": "Brian Tam",
      "photoUrl": "https://lh3.googleusercontent.com/a-/AOh14Ghgc8Qiv8iGjj2jm0gespu7EQTdy_JoeRrMeanEUw=s64",
      "userId": "13577029909494992269"
     },
     "user_tz": 300
    },
    "id": "PxvBvjHpQvWd"
   },
   "outputs": [],
   "source": [
    "'''\n",
    "import pandas for DF's, np for math, seaborn/pyplot for plotting, sklearn and stastics\n",
    "'''\n",
    "import pandas as pd\n",
    "import numpy as np\n",
    "import seaborn as sns\n",
    "import matplotlib.pyplot as plt\n",
    "import sys, sklearn\n",
    "import time\n",
    "\n",
    "#import requests to turn url into soup\n",
    "from bs4 import BeautifulSoup\n",
    "import requests\n",
    "\n",
    "%matplotlib inline "
   ]
  },
  {
   "cell_type": "markdown",
   "metadata": {},
   "source": [
    "# Basic English Vocab"
   ]
  },
  {
   "cell_type": "code",
   "execution_count": 17,
   "metadata": {
    "execution": {
     "iopub.execute_input": "2020-11-05T00:45:34.076021Z",
     "iopub.status.busy": "2020-11-05T00:45:34.075769Z",
     "iopub.status.idle": "2020-11-05T00:45:34.266372Z",
     "shell.execute_reply": "2020-11-05T00:45:34.265841Z",
     "shell.execute_reply.started": "2020-11-05T00:45:34.075994Z"
    }
   },
   "outputs": [],
   "source": [
    "htmlp = 'http://ogden.basic-english.org/wordalph.html'\n",
    "response = requests.get(htmlp)\n",
    "page = response.text\n",
    "\n",
    "#remove some of the html notation by turning into soup\n",
    "soup = BeautifulSoup(page)"
   ]
  },
  {
   "cell_type": "code",
   "execution_count": 13,
   "metadata": {
    "collapsed": true,
    "execution": {
     "iopub.execute_input": "2020-11-05T00:42:53.490983Z",
     "iopub.status.busy": "2020-11-05T00:42:53.490753Z",
     "iopub.status.idle": "2020-11-05T00:42:53.509116Z",
     "shell.execute_reply": "2020-11-05T00:42:53.505628Z",
     "shell.execute_reply.started": "2020-11-05T00:42:53.490959Z"
    },
    "jupyter": {
     "outputs_hidden": true
    }
   },
   "outputs": [
    {
     "data": {
      "text/plain": [
       "[<a class=\"visually-hidden focusable skip-link\" href=\"#main-content\">\n",
       "       Skip to main content\n",
       "     </a>,\n",
       " <a class=\"site-logo\" href=\"https://usccb.org\" rel=\"home\">\n",
       " <img alt=\"Home\" src=\"/themes/custom/usccb_readings/usccb-logo.svg\"/>\n",
       " </a>,\n",
       " <a class=\"btn blue big store\" href=\"http://store.usccb.org/\" target=\"_blank\">Store</a>,\n",
       " <a class=\"btn big\" container=\"mobile-off\" data-drupal-link-system-path=\"node/25731\" href=\"https://usccb.org/help-now\" target=\"_self\">Help Now</a>,\n",
       " <a class=\"btn big\" container=\"mobile-on\" href=\"https://bible.usccb.org/\">Readings</a>,\n",
       " <a class=\"icon icon-search no-label\" data-drupal-link-system-path=\"search\" href=\"https://usccb.org/search\">Search</a>,\n",
       " <a href=\"https://bible.usccb.org/\">Daily Readings</a>,\n",
       " <a data-drupal-link-system-path=\"mass-times\" href=\"https://usccb.org/mass-times\">Find a Parish</a>,\n",
       " <a data-drupal-link-system-path=\"node/51478\" href=\"https://usccb.org/committees/protection-children-young-people/how-report-abuse\">Report Abuse</a>,\n",
       " <a container=\"mobile-on\" href=\"https://bible.usccb.org/\">Daily Readings</a>,\n",
       " <a data-drupal-link-system-path=\"node/25775\" href=\"https://usccb.org/about\">Our Role &amp; Mission</a>,\n",
       " <a data-drupal-link-system-path=\"node/25780\" href=\"https://usccb.org/about/strategic-plan\">Strategic Plan</a>,\n",
       " <a data-drupal-link-system-path=\"node/25809\" href=\"https://usccb.org/about/leadership\">Leadership</a>,\n",
       " <a data-drupal-link-system-path=\"node/25779\" href=\"https://usccb.org/about/bishops-and-dioceses\">Bishops and Dioceses</a>,\n",
       " <a data-drupal-link-system-path=\"node/25825\" href=\"https://usccb.org/offices\">Offices &amp; Committees</a>,\n",
       " <a data-drupal-link-system-path=\"node/41646\" href=\"https://usccb.org/committees/communications/usccb-general-assemblies\">General Assemblies</a>,\n",
       " <a data-drupal-link-system-path=\"node/25782\" href=\"https://usccb.org/about/financial-reporting\">Financial Reporting</a>,\n",
       " <a data-drupal-link-system-path=\"node/25777\" href=\"https://usccb.org/careers\">Careers</a>,\n",
       " <a data-drupal-link-system-path=\"events\" href=\"https://usccb.org/events\">Events</a>,\n",
       " <a data-drupal-link-system-path=\"node/25659\" href=\"https://usccb.org/contact-us\">Contact</a>,\n",
       " <a data-drupal-link-system-path=\"node/25816\" href=\"https://usccb.org/prayer-and-worship/prayers-and-devotions\">Prayer</a>,\n",
       " <a data-drupal-link-system-path=\"node/25850\" href=\"https://usccb.org/prayer-and-worship/the-mass\">The Mass</a>,\n",
       " <a data-drupal-link-system-path=\"node/25826\" href=\"https://usccb.org/prayer-and-worship/sacraments-and-sacramentals\">Sacraments</a>,\n",
       " <a data-drupal-link-system-path=\"node/25818\" href=\"https://usccb.org/prayer-and-worship/liturgy-of-the-hours\">Liturgy of the Hours</a>,\n",
       " <a data-drupal-link-system-path=\"node/49484\" href=\"https://usccb.org/prayer-and-worship/liturgical-year-and-calendar\">Liturgical Year &amp; Calendar</a>,\n",
       " <a data-drupal-link-system-path=\"node/48300\" href=\"https://usccb.org/prayer-and-worship/sacred-music-and-art\">Music &amp; Art</a>,\n",
       " <a data-drupal-link-system-path=\"node/25778\" href=\"https://usccb.org/bible/understanding-the-bible\">Understanding the Bible</a>,\n",
       " <a href=\"https://bible.usccb.org/bible\">Books of the Bible</a>,\n",
       " <a data-drupal-link-system-path=\"node/41935\" href=\"https://usccb.org/offices/new-american-bible/approved-translations-bible\">Approved Translations</a>,\n",
       " <a data-drupal-link-system-path=\"taxonomy/term/8664\" href=\"https://usccb.org/faq\">FAQs</a>,\n",
       " <a data-drupal-link-system-path=\"node/41917\" href=\"https://usccb.org/offices/new-american-bible/study-materials\">Study Materials</a>,\n",
       " <a data-drupal-link-system-path=\"node/41919\" href=\"https://usccb.org/offices/new-american-bible/liturgy\">The Bible in Liturgy</a>,\n",
       " <a data-drupal-link-system-path=\"node/41922\" href=\"https://usccb.org/offices/new-american-bible/permissions\">Bible Permissions</a>,\n",
       " <a data-drupal-link-system-path=\"node/25658\" href=\"https://usccb.org/topics\">Topics</a>,\n",
       " <a data-drupal-link-system-path=\"node/25731\" href=\"https://usccb.org/help-now\">Help Now</a>,\n",
       " <a data-drupal-link-system-path=\"node/30414\" href=\"https://usccb.org/take-action\">Take Action</a>,\n",
       " <a href=\"https://www.votervoice.net/USCCB/home\" target=\"_blank\">Contact Public Officials</a>,\n",
       " <a data-drupal-link-system-path=\"events\" href=\"https://usccb.org/events\">Meetings &amp; Events</a>,\n",
       " <a data-drupal-link-system-path=\"node/25811\" href=\"https://usccb.org/get-connected\">Get Connected</a>,\n",
       " <a data-drupal-link-system-path=\"node/25851\" href=\"https://usccb.org/issues-and-action/take-action-now/pray\">Pray</a>,\n",
       " <a data-drupal-link-system-path=\"newsroom\" href=\"https://usccb.org/newsroom\">Newsroom</a>,\n",
       " <a href=\"https://www.catholicnews.com/\" target=\"_blank\">Catholic News Service</a>,\n",
       " <a data-drupal-link-system-path=\"node/40\" href=\"https://usccb.org/offices/public-affairs\">Public Affairs</a>,\n",
       " <a data-drupal-link-system-path=\"node/25748\" href=\"https://usccb.org/resources\">Resource Library</a>,\n",
       " <a data-drupal-link-system-path=\"node/25811\" href=\"https://usccb.org/get-connected\">Get Connected</a>,\n",
       " <a data-drupal-link-system-path=\"node/50856\" href=\"https://usccb.org/subscribe/email\">Subscribe</a>,\n",
       " <a href=\"https://www.catholicnews.com/movie-reviews/\" target=\"_blank\">Movie Reviews</a>,\n",
       " <a data-drupal-link-system-path=\"events\" href=\"https://usccb.org/events\">Events Calendar</a>,\n",
       " <a href=\"https://catholiccurrent.org/\" title=\"USCCB Resources for dioceses and parishes\">Parish Resources</a>,\n",
       " <a href=\"/\"><img alt=\"United States Conference of Catholic Bishops\" data-entity-type=\"file\" data-entity-uuid=\"be71ae96-e4ab-488a-adc1-259f103ab267\" src=\"/sites/default/files/inline-images/usccb-logo-color.png\"/></a>,\n",
       " <a id=\"main-content\" tabindex=\"-1\"></a>,\n",
       " <a href=\"/bible/alphabetical\"><h5>\n",
       "                   Alphabetical Order\n",
       "                 </h5></a>,\n",
       " <a href=\"/bible/preface/0\">Preface</a>,\n",
       " <a href=\"/bible/genesis/0\">Genesis</a>,\n",
       " <a href=\"/bible/exodus/0\">Exodus</a>,\n",
       " <a href=\"/bible/leviticus/0\">Leviticus</a>,\n",
       " <a href=\"/bible/numbers/0\">Numbers</a>,\n",
       " <a href=\"/bible/deuteronomy/0\">Deuteronomy</a>,\n",
       " <a href=\"/bible/joshua/0\">Joshua</a>,\n",
       " <a href=\"/bible/judges/0\">Judges</a>,\n",
       " <a href=\"/bible/ruth/0\">Ruth</a>,\n",
       " <a href=\"/bible/1samuel/0\">1 Samuel</a>,\n",
       " <a href=\"/bible/2samuel/1\">2 Samuel</a>,\n",
       " <a href=\"/bible/1kings/0\">1 Kings</a>,\n",
       " <a href=\"/bible/2kings/1\">2 Kings</a>,\n",
       " <a href=\"/bible/1chronicles/0\">1 Chronicles</a>,\n",
       " <a href=\"/bible/2chronicles/1\">2 Chronicles</a>,\n",
       " <a href=\"/bible/ezra/0\">Ezra</a>,\n",
       " <a href=\"/bible/nehemiah/0\">Nehemiah</a>,\n",
       " <a href=\"/bible/tobit/0\">Tobit</a>,\n",
       " <a href=\"/bible/judith/0\">Judith</a>,\n",
       " <a href=\"/bible/esther/0\">Esther</a>,\n",
       " <a href=\"/bible/1maccabees/0\">1 Maccabees</a>,\n",
       " <a href=\"/bible/2maccabees/1\">2 Maccabees</a>,\n",
       " <a href=\"/bible/job/0\">Job</a>,\n",
       " <a href=\"/bible/psalms/0\">Psalms</a>,\n",
       " <a href=\"/bible/proverbs/0\">Proverbs</a>,\n",
       " <a href=\"/bible/ecclesiastes/0\">Ecclesiastes</a>,\n",
       " <a href=\"/bible/songofsongs/0\">Song of Songs</a>,\n",
       " <a href=\"/bible/wisdom/0\">Wisdom</a>,\n",
       " <a href=\"/bible/sirach/0\">Sirach</a>,\n",
       " <a href=\"/bible/isaiah/0\">Isaiah</a>,\n",
       " <a href=\"/bible/jeremiah/0\">Jeremiah</a>,\n",
       " <a href=\"/bible/lamentations/0\">Lamentations</a>,\n",
       " <a href=\"/bible/baruch/0\">Baruch</a>,\n",
       " <a href=\"/bible/ezekiel/0\">Ezekiel</a>,\n",
       " <a href=\"/bible/daniel/0\">Daniel</a>,\n",
       " <a href=\"/bible/hosea/0\">Hosea</a>,\n",
       " <a href=\"/bible/joel/0\">Joel</a>,\n",
       " <a href=\"/bible/amos/0\">Amos</a>,\n",
       " <a href=\"/bible/obadiah/0\">Obadiah</a>,\n",
       " <a href=\"/bible/jonah/0\">Jonah</a>,\n",
       " <a href=\"/bible/micah/0\">Micah</a>,\n",
       " <a href=\"/bible/nahum/0\">Nahum</a>,\n",
       " <a href=\"/bible/habakkuk/0\">Habakkuk</a>,\n",
       " <a href=\"/bible/zephaniah/0\">Zephaniah</a>,\n",
       " <a href=\"/bible/haggai/0\">Haggai</a>,\n",
       " <a href=\"/bible/zechariah/0\">Zechariah</a>,\n",
       " <a href=\"/bible/malachi/0\">Malachi</a>,\n",
       " <a href=\"/bible/matthew/0\">Matthew</a>,\n",
       " <a href=\"/bible/mark/0\">Mark</a>,\n",
       " <a href=\"/bible/luke/0\">Luke</a>,\n",
       " <a href=\"/bible/john/0\">John</a>,\n",
       " <a href=\"/bible/acts/0\">Acts of the Apostles</a>,\n",
       " <a href=\"/bible/romans/0\">Romans</a>,\n",
       " <a href=\"/bible/1corinthians/0\">1 Corinthians</a>,\n",
       " <a href=\"/bible/2corinthians/1\">2 Corinthians</a>,\n",
       " <a href=\"/bible/galatians/0\">Galatians</a>,\n",
       " <a href=\"/bible/ephesians/0\">Ephesians</a>,\n",
       " <a href=\"/bible/philippians/0\">Philippians</a>,\n",
       " <a href=\"/bible/colossians/0\">Colossians</a>,\n",
       " <a href=\"/bible/1thessalonians/0\">1 Thessalonians</a>,\n",
       " <a href=\"/bible/2thessalonians/1\">2 Thessalonians</a>,\n",
       " <a href=\"/bible/1timothy/0\">1 Timothy</a>,\n",
       " <a href=\"/bible/2timothy/1\">2 Timothy</a>,\n",
       " <a href=\"/bible/titus/0\">Titus</a>,\n",
       " <a href=\"/bible/philemon/0\">Philemon</a>,\n",
       " <a href=\"/bible/hebrews/0\">Hebrews</a>,\n",
       " <a href=\"/bible/james/0\">James</a>,\n",
       " <a href=\"/bible/1peter/0\">1 Peter</a>,\n",
       " <a href=\"/bible/2peter/0\">2 Peter</a>,\n",
       " <a href=\"/bible/1john/0\">1 John</a>,\n",
       " <a href=\"/bible/2john/1\">2 John</a>,\n",
       " <a href=\"/bible/3john/1\">3 John</a>,\n",
       " <a href=\"/bible/jude/0\">Jude</a>,\n",
       " <a href=\"/bible/revelation/0\">Revelation</a>,\n",
       " <a href=\"http://store.usccb.org/\" target=\"_blank\">Explore more inspirational selections here</a>,\n",
       " <a href=\"http://store.usccb.org/fratelli-tutti-p/7-678.htm?utm_source=usccb.org&amp;utm_medium=store%20panel&amp;utm_campaign=fratelli_tutti\" target=\"_blank\">\n",
       " <img alt=\"On Fraternity and Social Friendship (Fratelli Tutti)\" class=\"image-style-book-image\" src=\"https://usccb.org/sites/default/files/styles/book_image/public/2020-10/7-678%20Cover.jpg?itok=9-dRMcp-\"/>\n",
       " <div class=\"body\">\n",
       " <p>On Fraternity and Social Friendship (Fratelli Tutti)</p>\n",
       " </div>\n",
       " </a>,\n",
       " <a href=\"http://store.usccb.org/forming-consciences-2019-p/7-647.htm?utm_source=usccb.org&amp;utm_medium=store_panel&amp;utm_campaign=forming_consciences\" target=\"_blank\">\n",
       " <img alt=\"Forming Consciences for Faithful Citizenship: A Call to Political Responsibility\" class=\"image-style-book-image\" src=\"https://usccb.org/sites/default/files/styles/book_image/public/2020-09/fcfc_0.jpg?itok=QUJE89RY\"/>\n",
       " <div class=\"body\">\n",
       " <p>Forming Consciences for Faithful Citizenship: A Call to Political Responsibility</p>\n",
       " </div>\n",
       " </a>,\n",
       " <a href=\"http://store.usccb.org/directory-for-catechesis-p/7-669.htm?utm_source=usccb.org&amp;utm_medium=store_panel&amp;utm_campaign=dir_for_catechesis\" target=\"_blank\">\n",
       " <img alt=\"Directory for Catechesis (New Edition)\" class=\"image-style-book-image\" src=\"https://usccb.org/sites/default/files/styles/book_image/public/2020-07/dc%20copy.jpg?itok=fome0X4w\"/>\n",
       " <div class=\"body\">\n",
       " <p>Directory for Catechesis (New Edition)</p>\n",
       " </div>\n",
       " </a>,\n",
       " <a href=\"http://store.usccb.org/prayer-companion-eucharistic-adoration-p/7-648.htm?utm_source=usccb.org&amp;utm_medium=store_panel&amp;utm_campaign=PCEA\" target=\"_blank\">\n",
       " <img alt=\"Prayer Companion for Eucharistic Adoration\" class=\"image-style-book-image\" src=\"https://usccb.org/sites/default/files/styles/book_image/public/2020-05/7-648-2.jpg?itok=Kk4UEIkt\"/>\n",
       " <div class=\"body\">\n",
       " <p>Prayer Companion for Eucharistic Adoration</p>\n",
       " </div>\n",
       " </a>,\n",
       " <a class=\"btn ocean light-blue transparent\" href=\"https://bible.usccb.org/\">Daily Readings</a>,\n",
       " <a class=\"btn ocean light-blue transparent\" href=\"https://bible.usccb.org/podcasts/audio\">Listen to Podcasts</a>,\n",
       " <a class=\"btn ocean light-blue transparent\" href=\"https://bible.usccb.org/podcasts/video\">Watch our Videos</a>,\n",
       " <a class=\"btn\" href=\"https://usccb.org/about/index.cfm\">Learn More</a>,\n",
       " <a href=\"https://usccb.org/committees/pro-life-activities/abortion\">Abortion</a>,\n",
       " <a href=\"https://usccb.org/committees/international-justice-and-peace/africa\">Africa</a>,\n",
       " <a href=\"https://usccb.org/committees/african-american-affairs\">African American</a>,\n",
       " <a href=\"https://usccb.org/committees/cultural-diversity-church/apostleship-sea\">Apostleship of the Sea</a>,\n",
       " <a href=\"https://usccb.org/committees/international-justice-and-peace/asia\">Asia</a>,\n",
       " <a href=\"https://usccb.org/committees/asian-and-pacific-island-affairs\">Asian/Pacific Islander</a>,\n",
       " <a href=\"https://usccb.org/committees/pro-life-activities/assisted-suicide\">Assisted Suicide</a>,\n",
       " <a href=\"https://bible.usccb.org/bible\">Bible</a>,\n",
       " <a href=\"https://usccb.org/committees/pro-life-activities/bioethics-materials\">Bioethics</a>,\n",
       " <a href=\"https://usccb.org/committees/evangelization-catechesis\">Catechesis</a>,\n",
       " <a href=\"https://usccb.org/committees/catholic-education\">Catholic Education</a>,\n",
       " <a href=\"https://usccb.org/offices/justice-peace-human-development/catholic-social-teaching\">Catholic Social Teaching</a>,\n",
       " <a href=\"https://usccb.org/committees/protection-children-young-people\">Child and Youth Protection</a>,\n",
       " <a class=\"more\" href=\"https://usccb.org/topics\">EXPAND ALL TOPICS</a>,\n",
       " <a href=\"https://bible.usccb.org/bible\">Books of the BIble</a>,\n",
       " <a data-drupal-link-system-path=\"node/25816\" href=\"https://usccb.org/prayer-and-worship/prayers-and-devotions\">Prayer</a>,\n",
       " <a data-drupal-link-system-path=\"node/49484\" href=\"https://usccb.org/prayer-and-worship/liturgical-year-and-calendar\">Liturgical Year &amp; Calendar</a>,\n",
       " <a data-drupal-link-system-path=\"node/25826\" href=\"https://usccb.org/prayer-and-worship/sacraments-and-sacramentals\">Sacraments</a>,\n",
       " <a data-drupal-link-system-path=\"node/25818\" href=\"https://usccb.org/prayer-and-worship/liturgy-of-the-hours\">Liturgy of the Hours</a>,\n",
       " <a data-drupal-link-system-path=\"node/25850\" href=\"https://usccb.org/prayer-and-worship/the-mass\">The Mass</a>,\n",
       " <a data-drupal-link-system-path=\"node/30414\" href=\"https://usccb.org/take-action\">Take Action</a>,\n",
       " <a data-drupal-link-system-path=\"node/25731\" href=\"https://usccb.org/help-now\">Help Now</a>,\n",
       " <a data-drupal-link-system-path=\"events\" href=\"https://usccb.org/events\">Meetings &amp; Events</a>,\n",
       " <a data-drupal-link-system-path=\"node/25851\" href=\"https://usccb.org/issues-and-action/take-action-now/pray\">Pray</a>,\n",
       " <a data-drupal-link-system-path=\"mass-times\" href=\"https://usccb.org/mass-times\">Parish/Mass Finder</a>,\n",
       " <a data-drupal-link-system-path=\"node/25748\" href=\"https://usccb.org/resources\">Resources</a>,\n",
       " <a data-drupal-link-system-path=\"events\" href=\"https://usccb.org/events\">Calendars</a>,\n",
       " <a data-drupal-link-system-path=\"node/50856\" href=\"https://usccb.org/subscribe/email\">E-mail Signup</a>,\n",
       " <a data-drupal-link-system-path=\"node/25811\" href=\"https://usccb.org/get-connected\">Social Media</a>,\n",
       " <a href=\"http://www.catholicnews.com/\" target=\"_blank\">Catholic News Service</a>,\n",
       " <a href=\"https://www.catholicnews.com/movie-reviews/\" target=\"_blank\">Movie Reviews</a>,\n",
       " <a class=\"nav-link icon-twitter\" href=\"https://twitter.com/usccb\" rel=\"nofollow\" target=\"_blank\">Twitter</a>,\n",
       " <a class=\"nav-link icon-facebook\" href=\"https://www.facebook.com/usccb\" rel=\"nofollow\" target=\"_blank\">Facebook</a>,\n",
       " <a class=\"nav-link icon-youtube\" href=\"https://www.youtube.com/user/usccb\" rel=\"nofollow\" target=\"_blank\">Youtube</a>,\n",
       " <a class=\"nav-link icon-linkedin\" href=\"https://www.linkedin.com/company/usccb/\" rel=\"nofollow\" target=\"_blank\">Linkedin</a>,\n",
       " <a class=\"nav-link icon-instagram\" href=\"https://www.instagram.com/usccb/\" rel=\"nofollow\" target=\"_blank\">Instagram</a>,\n",
       " <a class=\"nav-link\" data-drupal-link-system-path=\"node/48240\" href=\"https://usccb.org/about/privacy-policy\" rel=\"nofollow\">Privacy Policy</a>,\n",
       " <a href=\"https://usccb.org/committees/catholic-communication-campaign\">Made possible by funding from </a>,\n",
       " <a href=\"https://usccb.org/committees/catholic-communication-campaign\"> <img alt=\"ccc-final\" class=\"image-style-medium\" height=\"91\" src=\"/sites/default/files/styles/medium/public/2020-07/usccb_logo.png?itok=za3peyxE\" width=\"220\"/>\n",
       " </a>,\n",
       " <a class=\"new\" href=\"http://store.usccb.org/fratelli-tutti-p/7-678.htm?utm_source=usccb.org&amp;amp;utm_medium=store%20panel&amp;amp;utm_campaign=fratelli_tutti\" target=\"_blank\">\n",
       " <img alt=\"On Fraternity and Social Friendship (Fratelli Tutti)\" class=\"image-style-book-image\" src=\"https://usccb.org/sites/default/files/styles/book_image/public/2020-10/7-678%20Cover.jpg?itok=9-dRMcp-\"/>\n",
       " </a>,\n",
       " <a class=\"new\" href=\"http://store.usccb.org/forming-consciences-2019-p/7-647.htm?utm_source=usccb.org&amp;amp;utm_medium=store_panel&amp;amp;utm_campaign=forming_consciences\" target=\"_blank\">\n",
       " <img alt=\"Forming Consciences for Faithful Citizenship: A Call to Political Responsibility\" class=\"image-style-book-image\" src=\"https://usccb.org/sites/default/files/styles/book_image/public/2020-09/fcfc_0.jpg?itok=QUJE89RY\"/>\n",
       " </a>,\n",
       " <a class=\"regular\" href=\"http://store.usccb.org/directory-for-catechesis-p/7-669.htm?utm_source=usccb.org&amp;amp;utm_medium=store_panel&amp;amp;utm_campaign=dir_for_catechesis\" target=\"_blank\">\n",
       " <img alt=\"Directory for Catechesis (New Edition)\" class=\"image-style-book-image\" src=\"https://usccb.org/sites/default/files/styles/book_image/public/2020-07/dc%20copy.jpg?itok=fome0X4w\"/>\n",
       " </a>,\n",
       " <a class=\"btn green\" href=\"http://store.usccb.org/\">VIEW MORE</a>]"
      ]
     },
     "execution_count": 13,
     "metadata": {},
     "output_type": "execute_result"
    }
   ],
   "source": [
    "soup.find_all('a')"
   ]
  },
  {
   "cell_type": "code",
   "execution_count": 35,
   "metadata": {
    "execution": {
     "iopub.execute_input": "2020-11-01T08:23:01.741782Z",
     "iopub.status.busy": "2020-11-01T08:23:01.741556Z",
     "iopub.status.idle": "2020-11-01T08:23:01.746357Z",
     "shell.execute_reply": "2020-11-01T08:23:01.745553Z",
     "shell.execute_reply.started": "2020-11-01T08:23:01.741759Z"
    }
   },
   "outputs": [
    {
     "data": {
      "text/plain": [
       "'\\r\\na , able , about , account , acid , across , act , addition , adjustment , advertisement ,\\r\\n after , again , against , agreement , air , all , almost ,\\r\\namong , amount , amusement ,  and , angle , angry , animal , answer , ant , any ,\\r\\napparatus , apple , approval , arch , argument , arm , army , art , as ,\\r\\nat , attack , attempt , attention , attraction , authority  , automatic , awake .\\r\\n\\r\\n'"
      ]
     },
     "execution_count": 35,
     "metadata": {},
     "output_type": "execute_result"
    }
   ],
   "source": [
    "''.join(soup.find_all('br')[1].next_siblings)"
   ]
  },
  {
   "cell_type": "code",
   "execution_count": 3,
   "metadata": {
    "collapsed": true,
    "execution": {
     "iopub.execute_input": "2020-11-01T07:54:47.405735Z",
     "iopub.status.busy": "2020-11-01T07:54:47.405505Z",
     "iopub.status.idle": "2020-11-01T07:54:47.416656Z",
     "shell.execute_reply": "2020-11-01T07:54:47.415966Z",
     "shell.execute_reply.started": "2020-11-01T07:54:47.405712Z"
    },
    "jupyter": {
     "outputs_hidden": true
    }
   },
   "outputs": [
    {
     "data": {
      "text/plain": [
       "<!DOCTYPE html PUBLIC \"-//IETF//DTD HTML//EN\">\n",
       "<html>\n",
       "<head>\n",
       "<title>Ogden's Basic English Words</title>\n",
       "<meta content=\"text/html; charset=utf-8\" http-equiv=\"Content-Type\"/>\n",
       "<meta content=\"James L Bauer\" name=\"AUTHOR\"/>\n",
       "<meta content=\"Basic English is a simplified version of English language created by Charles Kay Ogden. Here are the 850 words in his order.\" name=\"DESCRIPTION\"/>\n",
       "<meta content=\"Basic English, Ogden's Basic English, Auxiliary Language, International Language, International Auxiliary Language,\n",
       "Ogden, Charles Ogden, Charles K Ogden, Charles K. Ogden, Charles Kay Ogden,\n",
       "C. K. Ogden, C K Ogden, I. A. Richards, I A Richards, Ivor Richards, 850 words,\n",
       "language, languages, English language, learning English\" name=\"KEYWORDS\"/>\n",
       "<link href=\"basiceng.css\" rel=\"StyleSheet\" type=\"text/css\"/>\n",
       "<link href=\"favicon.gif\" rel=\"icon\" type=\"image/gif\"/>\n",
       "</head>\n",
       "<body leftmargin=\"100\" rightmargin=\"200\">\n",
       "<img align=\"left\" alt=\"logo\" border=\"0\" src=\"gif/logo.gif\"/>\n",
       "<h2 align=\"center\">\n",
       "Odgen's BASIC ENGLISH VOCABULARY<br/><font size=\"4\">Word List - in His Order</font><hr color=\"maroon\" width=\"50%\"/></h2>\n",
       "<ul> <font size=\"4\">\n",
       "<h3>OPERATIONS - 100 words</h3>\n",
       "<p>come, get, give, go, keep, let, make, put, seem, take,\n",
       "be, do, have, say, see, send, may, will,\n",
       "<br/>about, across, after, against, among, at, before, between, by,\n",
       "down, from, in, off, on, over, through, to, under, up, with,\n",
       "<br/>as, for, of, till, than,\n",
       "<br/>a , the, all, any, every, little, much, no, other, some, such, that, this,\n",
       "I , he, you, who,\n",
       "<br/>and, because, but, or, if, though, while, how, when, where, why,\n",
       "<br/>again, ever, far, forward, here, near, now, out, still, then,\n",
       "there, together,  well,\n",
       "<br/>almost, enough, even,  not, only, quite, so, very,\n",
       "tomorrow, yesterday,\n",
       "<br/>north, south, east, west, please, yes .\n",
       "</p><h3>THINGS - 400 General words</h3>\n",
       "account, act, addition, adjustment, advertisement, agreement, air,\n",
       " amount, amusement, animal, answer, apparatus, approval, argument, art,\n",
       " attack, attempt, attention, attraction, authority,\n",
       "back, balance, base, behavior, belief, birth, bit, bite, blood, blow,\n",
       " body, brass, bread, breath, brother, building, burn, burst, business,\n",
       " butter,\n",
       "canvas, care, cause, chalk, chance, change, cloth, coal, color, comfort,\n",
       " committee, company, comparison, competition, condition, connection,\n",
       " control, cook, copper, copy, cork, cotton, cough, country, cover,\n",
       " crack, credit, crime, crush, cry, current, curve,\n",
       "damage, danger, daughter, day, death, debt, decision, degree, design,\n",
       " desire, destruction, detail, development, digestion, direction,\n",
       " discovery, discussion, disease, disgust, distance,\n",
       " distribution, division, doubt, drink, driving, dust,\n",
       "earth, edge, education, effect, end, error, event, example, exchange,\n",
       " existence, expansion, experience, expert,\n",
       "fact, fall, family, father, fear, feeling, fiction, field, fight, fire,\n",
       " flame, flight, flower, fold, food, force, form, friend, front, fruit,\n",
       "glass, gold, government, grain, grass, grip, group, growth, guide,\n",
       "harbor, harmony, hate, hearing, heat, help, history, hole, hope, hour,  humor,\n",
       "ice, idea, impulse, increase, industry, ink, insect, instrument,\n",
       " insurance, interest, invention, iron,\n",
       "jelly, join, journey, judge, jump,\n",
       "kick, kiss, knowledge,\n",
       "land, language, laugh, law, lead, learning, leather, letter, level,\n",
       " lift, light, limit, linen, liquid, list, look, loss, love,\n",
       "machine, man, manager, mark, market, mass, meal, measure, meat, meeting,\n",
       " memory, metal, middle, milk, mind, mine, minute, mist, money, month,\n",
       " morning ,mother, motion, mountain, move, music,\n",
       "name, nation, need, news, night, noise, note, number,\n",
       "observation, offer, oil, operation, opinion, order, organization,\n",
       " ornament, owner,\n",
       "page, pain, paint, paper, part, paste, payment, peace, person, place,\n",
       " plant, play, pleasure, point, poison, polish, porter, position, powder,\n",
       " power, price, print, process, produce, profit, property,\n",
       " prose, protest, pull, punishment, purpose, push,\n",
       "quality, question,\n",
       "rain, range, rate, ray, reaction, reading, reason, record, regret, relation, religion,\n",
       " representative, request, respect, rest, reward, rhythm, rice, river,\n",
       " road, roll, room, rub, rule, run,\n",
       "salt, sand, scale, science, sea, seat, secretary, selection, self, sense, servant, sex,\n",
       " shade, shake, shame, shock, side, sign, silk, silver, sister, size, sky, sleep, slip, slope,\n",
       " smash, smell, smile, smoke, sneeze, snow, soap, society, son, song, sort, sound, soup,\n",
       " space, stage, start, statement, steam, steel, step, stitch, stone, stop, story, stretch,\n",
       " structure, substance, sugar, suggestion, summer, support, surprise, swim, system,\n",
       "talk, taste, tax, teaching, tendency, test, theory, thing, thought, thunder,\n",
       " time, tin, top, touch, trade, transport, trick, trouble, turn, twist,\n",
       "unit, use, value, verse, vessel, view, voice,\n",
       "walk, war, wash, waste, water, wave, wax, way, weather, week, weight,\n",
       " wind, wine, winter, woman, wood, wool, word, work, wound, writing ,\n",
       "year .\n",
       "<h3>THINGS - 200 Picturable words - <font size=\"-1\"><a href=\"wordpic0.html\">picture list</a></font></h3>\n",
       "angle, ant, apple, arch, arm, army,\n",
       "baby, bag, ball, band, basin, basket, bath, bed, bee, bell, berry, bird,\n",
       " blade, board, boat, bone, book, boot, bottle, box, boy, brain, brake,\n",
       " branch, brick, bridge, brush, bucket, bulb, button,\n",
       "cake, camera, card, cart, carriage, cat, chain, cheese, chest, chin,\n",
       " church, circle, clock, cloud, coat, collar, comb, cord, cow, cup,\n",
       " curtain, cushion,\n",
       "dog, door, drain, drawer, dress, drop,\n",
       "ear, egg, engine, eye,\n",
       "face, farm, feather, finger, fish, flag, floor, fly, foot, fork, fowl, frame,\n",
       "garden, girl, glove, goat, gun,\n",
       "hair, hammer, hand, hat, head, heart, hook, horn, horse, hospital, house,\n",
       "island, jewel,\n",
       "kettle, key, knee, knife, knot,\n",
       "leaf, leg, library, line, lip, lock,\n",
       "map, match, monkey, moon, mouth, muscle,\n",
       "nail, neck, needle, nerve, net, nose, nut,\n",
       "office, orange, oven,\n",
       "parcel, pen, pencil, picture, pig, pin, pipe, plane, plate, plough/plow,\n",
       " pocket, pot, potato, prison, pump,\n",
       "rail, rat, receipt, ring, rod, roof, root,\n",
       "sail, school, scissors, screw, seed, sheep, shelf, ship, shirt, shoe,\n",
       " skin, skirt, snake, sock, spade, sponge, spoon, spring, square, stamp,\n",
       " star, station, stem, stick, stocking, stomach, store, street, sun,\n",
       "table, tail, thread, throat, thumb, ticket, toe, tongue, tooth, town,\n",
       " train, tray, tree, trousers,\n",
       "umbrella,\n",
       "wall, watch, wheel, whip, whistle, window, wing, wire, worm .\n",
       "<h3>QUALITIES - 100 General</h3>\n",
       "able, acid, angry, automatic, beautiful, black, boiling, bright, broken, brown,\n",
       "cheap, chemical, chief, clean, clear, common, complex, conscious, cut,\n",
       "deep, dependent,\n",
       "early, elastic, electric, equal,\n",
       "fat, fertile, first, fixed, flat, free, frequent, full,\n",
       "general, good, great, grey/gray,\n",
       "hanging, happy, hard, healthy, high, hollow,\n",
       "important, kind,\n",
       "like, living, long,\n",
       "male, married, material, medical, military,\n",
       "natural, necessary, new, normal,\n",
       "open,\n",
       "parallel, past, physical, political, poor, possible, present, private,\n",
       " probable,\n",
       "quick, quiet,\n",
       "ready, red, regular, responsible, right, round,\n",
       "same, second, separate, serious, sharp, smooth, sticky, stiff, straight,\n",
       " strong, sudden, sweet,\n",
       "tall, thick, tight, tired, true,\n",
       "violent,\n",
       "waiting, warm, wet, wide, wise,\n",
       "yellow, young .\n",
       "<h3>QUALITIES - 50 Opposites</h3>\n",
       "awake, bad, bent, bitter, blue, certain, cold, complete, cruel,\n",
       "dark, dead, dear, delicate, different, dirty, dry,\n",
       "false, feeble, female, foolish, future,\n",
       "green, ill,\n",
       "last, late, left, loose, loud, low,\n",
       "mixed, narrow, old, opposite,\n",
       "public, rough,\n",
       "sad, safe, secret, short, shut, simple, slow, small, soft, solid,\n",
       "special, strange,\n",
       "thin, white, wrong .\n",
       "<hr color=\"maroon\"/>\n",
       "<h3>Link to Words in <a href=\"wordalph.html\">Alphabetic Sequence</a></h3>\n",
       "<hr color=\"maroon\"/><font class=\"f8\">\n",
       "Back to : <a href=\"http://ogden.basic-english.org/basiceng.html\">Ogden's Basic English</a>\n",
       "<br/>About this Page : <b>words.html</b> -- Ogden's Basic English 850 words in His sequence.\n",
       "<address>Last updated on January 1, 1996\n",
       "<br/>Contact us at <script language=\"javascript\"><!-- //\n",
       "var link   = \"E-mail\";\n",
       "var tag1   = \"mail\"; \t var tag2   = \"to:\";\n",
       "var email1 = \"%20manor1\"; var email2 = \"basic-english\";\n",
       "document.write(\"<a href=\" + tag1 + tag2 + email1 + \"@\" + email2 + \".org>\" + link + \"</a>\")\n",
       "//--> </script></address>\n",
       "URL: http://ogden.basic-english.org/words.html\n",
       "      <a href=\"http://ogden.basic-english.org/start.html\"><font color=\"gray\" size=\"1\">*</font></a>\n",
       "</font>\n",
       "</font></ul>\n",
       "</body>\n",
       "</html>"
      ]
     },
     "execution_count": 3,
     "metadata": {},
     "output_type": "execute_result"
    }
   ],
   "source": [
    "basic_dict = {}\n",
    "for h3 in soup.find_all('h3'):\n",
    "    basic_dict[f'{h3.text}']"
   ]
  },
  {
   "cell_type": "code",
   "execution_count": 38,
   "metadata": {
    "execution": {
     "iopub.execute_input": "2020-11-01T08:28:22.897099Z",
     "iopub.status.busy": "2020-11-01T08:28:22.896875Z",
     "iopub.status.idle": "2020-11-01T08:28:22.903696Z",
     "shell.execute_reply": "2020-11-01T08:28:22.903005Z",
     "shell.execute_reply.started": "2020-11-01T08:28:22.897076Z"
    }
   },
   "outputs": [],
   "source": [
    "basic_str = '''\n",
    "come, get, give, go, keep, let, make, put, seem, take, be, do, have, say, see, send, may, will,\n",
    "about, across, after, against, among, at, before, between, by, down, from, in, off, on, over, through, to, under, up, with,\n",
    "as, for, of, till, than,\n",
    "a , the, all, any, every, little, much, no, other, some, such, that, this, I , he, you, who,\n",
    "and, because, but, or, if, though, while, how, when, where, why,\n",
    "again, ever, far, forward, here, near, now, out, still, then, there, together, well,\n",
    "almost, enough, even, not, only, quite, so, very, tomorrow, yesterday,\n",
    "north, south, east, west, please, yes,\n",
    "account, act, addition, adjustment, advertisement, agreement, air, amount, amusement, animal, answer, apparatus, approval, argument, art, attack, attempt, attention, attraction, authority, back, balance, base, behavior, belief, birth, bit, bite, blood, blow, body, brass, bread, breath, brother, building, burn, burst, business, butter, canvas, care, cause, chalk, chance, change, cloth, coal, color, comfort, committee, company, comparison, competition, condition, connection, control, cook, copper, copy, cork, cotton, cough, country, cover, crack, credit, crime, crush, cry, current, curve, damage, danger, daughter, day, death, debt, decision, degree, design, desire, destruction, detail, development, digestion, direction, discovery, discussion, disease, disgust, distance, distribution, division, doubt, drink, driving, dust, earth, edge, education, effect, end, error, event, example, exchange, existence, expansion, experience, expert, fact, fall, family, father, fear, feeling, fiction, field, fight, fire, flame, flight, flower, fold, food, force, form, friend, front, fruit, glass, gold, government, grain, grass, grip, group, growth, guide, harbor, harmony, hate, hearing, heat, help, history, hole, hope, hour, humor, ice, idea, impulse, increase, industry, ink, insect, instrument, insurance, interest, invention, iron, jelly, join, journey, judge, jump, kick, kiss, knowledge, land, language, laugh, law, lead, learning, leather, letter, level, lift, light, limit, linen, liquid, list, look, loss, love, machine, man, manager, mark, market, mass, meal, measure, meat, meeting, memory, metal, middle, milk, mind, mine, minute, mist, money, month, morning ,mother, motion, mountain, move, music, name, nation, need, news, night, noise, note, number, observation, offer, oil, operation, opinion, order, organization, ornament, owner, page, pain, paint, paper, part, paste, payment, peace, person, place, plant, play, pleasure, point, poison, polish, porter, position, powder, power, price, print, process, produce, profit, property, prose, protest, pull, punishment, purpose, push, quality, question, rain, range, rate, ray, reaction, reading, reason, record, regret, relation, religion, representative, request, respect, rest, reward, rhythm, rice, river, road, roll, room, rub, rule, run, salt, sand, scale, science, sea, seat, secretary, selection, self, sense, servant, sex, shade, shake, shame, shock, side, sign, silk, silver, sister, size, sky, sleep, slip, slope, smash, smell, smile, smoke, sneeze, snow, soap, society, son, song, sort, sound, soup, space, stage, start, statement, steam, steel, step, stitch, stone, stop, story, stretch, structure, substance, sugar, suggestion, summer, support, surprise, swim, system, talk, taste, tax, teaching, tendency, test, theory, thing, thought, thunder, time, tin, top, touch, trade, transport, trick, trouble, turn, twist, unit, use, value, verse, vessel, view, voice, walk, war, wash, waste, water, wave, wax, way, weather, week, weight, wind, wine, winter, woman, wood, wool, word, work, wound, writing , year,\n",
    "angle, ant, apple, arch, arm, army, baby, bag, ball, band, basin, basket, bath, bed, bee, bell, berry, bird, blade, board, boat, bone, book, boot, bottle, box, boy, brain, brake, branch, brick, bridge, brush, bucket, bulb, button, cake, camera, card, cart, carriage, cat, chain, cheese, chest, chin, church, circle, clock, cloud, coat, collar, comb, cord, cow, cup, curtain, cushion, dog, door, drain, drawer, dress, drop, ear, egg, engine, eye, face, farm, feather, finger, fish, flag, floor, fly, foot, fork, fowl, frame, garden, girl, glove, goat, gun, hair, hammer, hand, hat, head, heart, hook, horn, horse, hospital, house, island, jewel, kettle, key, knee, knife, knot, leaf, leg, library, line, lip, lock, map, match, monkey, moon, mouth, muscle, nail, neck, needle, nerve, net, nose, nut, office, orange, oven, parcel, pen, pencil, picture, pig, pin, pipe, plane, plate, plough/plow, pocket, pot, potato, prison, pump, rail, rat, receipt, ring, rod, roof, root, sail, school, scissors, screw, seed, sheep, shelf, ship, shirt, shoe, skin, skirt, snake, sock, spade, sponge, spoon, spring, square, stamp, star, station, stem, stick, stocking, stomach, store, street, sun, table, tail, thread, throat, thumb, ticket, toe, tongue, tooth, town, train, tray, tree, trousers, umbrella, wall, watch, wheel, whip, whistle, window, wing, wire, worm,\n",
    "able, acid, angry, automatic, beautiful, black, boiling, bright, broken, brown, cheap, chemical, chief, clean, clear, common, complex, conscious, cut, deep, dependent, early, elastic, electric, equal, fat, fertile, first, fixed, flat, free, frequent, full, general, good, great, grey/gray, hanging, happy, hard, healthy, high, hollow, important, kind, like, living, long, male, married, material, medical, military, natural, necessary, new, normal, open, parallel, past, physical, political, poor, possible, present, private, probable, quick, quiet, ready, red, regular, responsible, right, round, same, second, separate, serious, sharp, smooth, sticky, stiff, straight, strong, sudden, sweet, tall, thick, tight, tired, true, violent, waiting, warm, wet, wide, wise, yellow, young,\n",
    "awake, bad, bent, bitter, blue, certain, cold, complete, cruel, dark, dead, dear, delicate, different, dirty, dry, false, feeble, female, foolish, future, green, ill, last, late, left, loose, loud, low, mixed, narrow, old, opposite, public, rough, sad, safe, secret, short, shut, simple, slow, small, soft, solid, special, strange, thin, white, wrong\n",
    "'''"
   ]
  },
  {
   "cell_type": "code",
   "execution_count": 43,
   "metadata": {
    "execution": {
     "iopub.execute_input": "2020-11-01T08:31:21.403559Z",
     "iopub.status.busy": "2020-11-01T08:31:21.403372Z",
     "iopub.status.idle": "2020-11-01T08:31:21.408656Z",
     "shell.execute_reply": "2020-11-01T08:31:21.408000Z",
     "shell.execute_reply.started": "2020-11-01T08:31:21.403539Z"
    }
   },
   "outputs": [],
   "source": [
    "basic_english_list = basic_str.replace('\\n', '').replace(' ','').split(',')"
   ]
  },
  {
   "cell_type": "code",
   "execution_count": 44,
   "metadata": {
    "execution": {
     "iopub.execute_input": "2020-11-01T08:32:06.770497Z",
     "iopub.status.busy": "2020-11-01T08:32:06.770258Z",
     "iopub.status.idle": "2020-11-01T08:32:07.631998Z",
     "shell.execute_reply": "2020-11-01T08:32:07.631401Z",
     "shell.execute_reply.started": "2020-11-01T08:32:06.770474Z"
    }
   },
   "outputs": [],
   "source": [
    "import pickle\n",
    "pd.to_pickle(basic_english_list,'basic_english_list.pkl')"
   ]
  },
  {
   "cell_type": "markdown",
   "metadata": {},
   "source": [
    "# Books of the Bible"
   ]
  },
  {
   "cell_type": "code",
   "execution_count": 49,
   "metadata": {
    "execution": {
     "iopub.execute_input": "2020-11-05T01:02:47.338258Z",
     "iopub.status.busy": "2020-11-05T01:02:47.338020Z",
     "iopub.status.idle": "2020-11-05T01:02:47.454348Z",
     "shell.execute_reply": "2020-11-05T01:02:47.453641Z",
     "shell.execute_reply.started": "2020-11-05T01:02:47.338231Z"
    }
   },
   "outputs": [
    {
     "data": {
      "text/plain": [
       "['Genesis',\n",
       " 'Exodus',\n",
       " 'Leviticus',\n",
       " 'Numbers',\n",
       " 'Deuteronomy',\n",
       " 'Joshua',\n",
       " 'Judges',\n",
       " 'Ruth',\n",
       " '1 Samuel',\n",
       " '2 Samuel',\n",
       " '1 Kings',\n",
       " '2 Kings',\n",
       " '1 Chronicles',\n",
       " '2 Chronicles',\n",
       " 'Ezra',\n",
       " 'Nehemiah',\n",
       " 'Tobit',\n",
       " 'Judith',\n",
       " 'Esther',\n",
       " '1 Maccabees',\n",
       " '2 Maccabees',\n",
       " 'Job',\n",
       " 'Psalms',\n",
       " 'Proverbs',\n",
       " 'Ecclesiastes',\n",
       " 'Song of Songs',\n",
       " 'Wisdom',\n",
       " 'Sirach',\n",
       " 'Isaiah',\n",
       " 'Jeremiah',\n",
       " 'Lamentations',\n",
       " 'Baruch',\n",
       " 'Ezekiel',\n",
       " 'Daniel',\n",
       " 'Hosea',\n",
       " 'Joel',\n",
       " 'Amos',\n",
       " 'Obadiah',\n",
       " 'Jonah',\n",
       " 'Micah',\n",
       " 'Nahum',\n",
       " 'Habakkuk',\n",
       " 'Zephaniah',\n",
       " 'Haggai',\n",
       " 'Zechariah',\n",
       " 'Malachi']"
      ]
     },
     "execution_count": 49,
     "metadata": {},
     "output_type": "execute_result"
    }
   ],
   "source": [
    "htmlp = 'https://bible.usccb.org/bible'\n",
    "response = requests.get(htmlp)\n",
    "page = response.text\n",
    "\n",
    "#remove some of the html notation by turning into soup\n",
    "soup = BeautifulSoup(page)\n",
    "\n",
    "# Create list of the books of the bible\n",
    "OT_books = [book.text for book in soup.find('ul', class_='content').find_all('a')[1:]]\n",
    "OT_books"
   ]
  },
  {
   "cell_type": "code",
   "execution_count": 50,
   "metadata": {
    "execution": {
     "iopub.execute_input": "2020-11-05T01:02:47.803940Z",
     "iopub.status.busy": "2020-11-05T01:02:47.803730Z",
     "iopub.status.idle": "2020-11-05T01:02:47.807738Z",
     "shell.execute_reply": "2020-11-05T01:02:47.806982Z",
     "shell.execute_reply.started": "2020-11-05T01:02:47.803917Z"
    }
   },
   "outputs": [
    {
     "data": {
      "text/plain": [
       "46"
      ]
     },
     "execution_count": 50,
     "metadata": {},
     "output_type": "execute_result"
    }
   ],
   "source": [
    "len(OT_books)"
   ]
  },
  {
   "cell_type": "code",
   "execution_count": 51,
   "metadata": {
    "execution": {
     "iopub.execute_input": "2020-11-05T01:02:48.450118Z",
     "iopub.status.busy": "2020-11-05T01:02:48.449891Z",
     "iopub.status.idle": "2020-11-05T01:02:48.455091Z",
     "shell.execute_reply": "2020-11-05T01:02:48.454392Z",
     "shell.execute_reply.started": "2020-11-05T01:02:48.450094Z"
    }
   },
   "outputs": [],
   "source": [
    "NT_books = [book.text for book in soup.find_all('ul', class_='content')[1].find_all('a')]"
   ]
  },
  {
   "cell_type": "code",
   "execution_count": 40,
   "metadata": {
    "execution": {
     "iopub.execute_input": "2020-11-05T00:56:31.627045Z",
     "iopub.status.busy": "2020-11-05T00:56:31.626825Z",
     "iopub.status.idle": "2020-11-05T00:56:31.630703Z",
     "shell.execute_reply": "2020-11-05T00:56:31.630090Z",
     "shell.execute_reply.started": "2020-11-05T00:56:31.627021Z"
    }
   },
   "outputs": [
    {
     "data": {
      "text/plain": [
       "27"
      ]
     },
     "execution_count": 40,
     "metadata": {},
     "output_type": "execute_result"
    }
   ],
   "source": [
    "len(NT_books)"
   ]
  },
  {
   "cell_type": "markdown",
   "metadata": {},
   "source": [
    "This source included some of the books not included in the presbyterian bible so I had to pivot and find a new site:"
   ]
  },
  {
   "cell_type": "code",
   "execution_count": 44,
   "metadata": {
    "execution": {
     "iopub.execute_input": "2020-11-05T01:01:16.014973Z",
     "iopub.status.busy": "2020-11-05T01:01:16.014683Z",
     "iopub.status.idle": "2020-11-05T01:01:16.241369Z",
     "shell.execute_reply": "2020-11-05T01:01:16.240789Z",
     "shell.execute_reply.started": "2020-11-05T01:01:16.014946Z"
    }
   },
   "outputs": [
    {
     "data": {
      "text/plain": [
       "['Genesis',\n",
       " 'Exodus',\n",
       " 'Leviticus',\n",
       " 'Numbers',\n",
       " 'Deuteronomy',\n",
       " 'Joshua',\n",
       " 'Judges',\n",
       " 'Ruth',\n",
       " '1 Samuel',\n",
       " '2 Samuel',\n",
       " '1 Kings',\n",
       " '2 Kings',\n",
       " '1 Chronicles',\n",
       " '2 Chronicles',\n",
       " 'Ezra',\n",
       " 'Nehemiah',\n",
       " 'Esther',\n",
       " 'Job',\n",
       " 'Psalms',\n",
       " 'Proverbs',\n",
       " 'Ecclesiastes',\n",
       " 'Song of Solomon',\n",
       " 'Isaiah',\n",
       " 'Jeremiah',\n",
       " 'Lamentations',\n",
       " 'Ezekiel',\n",
       " 'Daniel',\n",
       " 'Hosea',\n",
       " 'Joel',\n",
       " 'Amos',\n",
       " 'Obadiah',\n",
       " 'Jonah',\n",
       " 'Micah',\n",
       " 'Nahum',\n",
       " 'Habakkuk',\n",
       " 'Zephaniah',\n",
       " 'Haggai',\n",
       " 'Zechariah',\n",
       " 'Malachi']"
      ]
     },
     "execution_count": 44,
     "metadata": {},
     "output_type": "execute_result"
    }
   ],
   "source": [
    "htmlp = 'https://www.christianity.com/bible/bible.php?ver=kjv'\n",
    "response = requests.get(htmlp)\n",
    "page = response.text\n",
    "\n",
    "#remove some of the html notation by turning into soup\n",
    "soup = BeautifulSoup(page)\n",
    "\n",
    "# Create list of the books of the bible\n",
    "OT_books = [book.text for book in soup.find('ul', class_=\"nav nav-pills nav-stacked\").find_all('a')]\n",
    "OT_books"
   ]
  },
  {
   "cell_type": "code",
   "execution_count": 45,
   "metadata": {
    "execution": {
     "iopub.execute_input": "2020-11-05T01:01:40.647141Z",
     "iopub.status.busy": "2020-11-05T01:01:40.646915Z",
     "iopub.status.idle": "2020-11-05T01:01:40.652999Z",
     "shell.execute_reply": "2020-11-05T01:01:40.652389Z",
     "shell.execute_reply.started": "2020-11-05T01:01:40.647117Z"
    }
   },
   "outputs": [
    {
     "data": {
      "text/plain": [
       "['Matthew',\n",
       " 'Mark',\n",
       " 'Luke',\n",
       " 'John',\n",
       " 'Acts',\n",
       " 'Romans',\n",
       " '1 Corinthians',\n",
       " '2 Corinthians',\n",
       " 'Galatians',\n",
       " 'Ephesians',\n",
       " 'Philippians',\n",
       " 'Colossians',\n",
       " '1 Thessalonians',\n",
       " '2 Thessalonians',\n",
       " '1 Timothy',\n",
       " '2 Timothy',\n",
       " 'Titus',\n",
       " 'Philemon',\n",
       " 'Hebrews',\n",
       " 'James',\n",
       " '1 Peter',\n",
       " '2 Peter',\n",
       " '1 John',\n",
       " '2 John',\n",
       " '3 John',\n",
       " 'Jude',\n",
       " 'Revelation']"
      ]
     },
     "execution_count": 45,
     "metadata": {},
     "output_type": "execute_result"
    }
   ],
   "source": [
    "NT_books = [book.text for book in soup.find_all('ul', class_=\"nav nav-pills nav-stacked\")[1].find_all('a')]\n",
    "NT_books"
   ]
  },
  {
   "cell_type": "code",
   "execution_count": 47,
   "metadata": {
    "execution": {
     "iopub.execute_input": "2020-11-05T01:02:18.702415Z",
     "iopub.status.busy": "2020-11-05T01:02:18.702186Z",
     "iopub.status.idle": "2020-11-05T01:02:18.706850Z",
     "shell.execute_reply": "2020-11-05T01:02:18.706198Z",
     "shell.execute_reply.started": "2020-11-05T01:02:18.702391Z"
    }
   },
   "outputs": [
    {
     "data": {
      "text/plain": [
       "66"
      ]
     },
     "execution_count": 47,
     "metadata": {},
     "output_type": "execute_result"
    }
   ],
   "source": [
    "books_of_bible = OT_books + NT_books\n",
    "len(books_of_bible)"
   ]
  },
  {
   "cell_type": "code",
   "execution_count": 56,
   "metadata": {
    "execution": {
     "iopub.execute_input": "2020-11-05T01:58:39.991044Z",
     "iopub.status.busy": "2020-11-05T01:58:39.990818Z",
     "iopub.status.idle": "2020-11-05T01:58:39.995520Z",
     "shell.execute_reply": "2020-11-05T01:58:39.994692Z",
     "shell.execute_reply.started": "2020-11-05T01:58:39.991020Z"
    }
   },
   "outputs": [],
   "source": [
    "pd.to_pickle(books_of_bible,'data/books_of_bible.pkl')"
   ]
  }
 ],
 "metadata": {
  "kernelspec": {
   "display_name": "Python [conda env:metis] *",
   "language": "python",
   "name": "conda-env-metis-py"
  },
  "language_info": {
   "codemirror_mode": {
    "name": "ipython",
    "version": 3
   },
   "file_extension": ".py",
   "mimetype": "text/x-python",
   "name": "python",
   "nbconvert_exporter": "python",
   "pygments_lexer": "ipython3",
   "version": "3.8.5"
  }
 },
 "nbformat": 4,
 "nbformat_minor": 4
}
