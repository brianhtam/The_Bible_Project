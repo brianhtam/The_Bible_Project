{
 "cells": [
  {
   "cell_type": "code",
   "execution_count": 1,
   "metadata": {
    "ExecuteTime": {
     "end_time": "2020-07-28T05:27:09.760102Z",
     "start_time": "2020-07-28T05:27:08.323691Z"
    },
    "execution": {
     "iopub.execute_input": "2020-11-01T07:50:01.293258Z",
     "iopub.status.busy": "2020-11-01T07:50:01.293008Z",
     "iopub.status.idle": "2020-11-01T07:50:03.924356Z",
     "shell.execute_reply": "2020-11-01T07:50:03.923612Z",
     "shell.execute_reply.started": "2020-11-01T07:50:01.293234Z"
    },
    "executionInfo": {
     "elapsed": 1191,
     "status": "ok",
     "timestamp": 1601591063515,
     "user": {
      "displayName": "Brian Tam",
      "photoUrl": "https://lh3.googleusercontent.com/a-/AOh14Ghgc8Qiv8iGjj2jm0gespu7EQTdy_JoeRrMeanEUw=s64",
      "userId": "13577029909494992269"
     },
     "user_tz": 300
    },
    "id": "PxvBvjHpQvWd"
   },
   "outputs": [],
   "source": [
    "'''\n",
    "import pandas for DF's, np for math, seaborn/pyplot for plotting, sklearn and stastics\n",
    "'''\n",
    "import pandas as pd\n",
    "import numpy as np\n",
    "import seaborn as sns\n",
    "import matplotlib.pyplot as plt\n",
    "import sys, sklearn\n",
    "import time\n",
    "\n",
    "#import requests to turn url into soup\n",
    "from bs4 import BeautifulSoup\n",
    "import requests\n",
    "\n",
    "%matplotlib inline "
   ]
  },
  {
   "cell_type": "code",
   "execution_count": 15,
   "metadata": {
    "execution": {
     "iopub.execute_input": "2020-11-01T08:15:15.320771Z",
     "iopub.status.busy": "2020-11-01T08:15:15.320554Z",
     "iopub.status.idle": "2020-11-01T08:15:15.422059Z",
     "shell.execute_reply": "2020-11-01T08:15:15.421483Z",
     "shell.execute_reply.started": "2020-11-01T08:15:15.320749Z"
    }
   },
   "outputs": [],
   "source": [
    "htmlp = 'http://ogden.basic-english.org/wordalph.html'\n",
    "response = requests.get(htmlp)\n",
    "page = response.text\n",
    "\n",
    "#remove some of the html notation by turning into soup\n",
    "soup = BeautifulSoup(page, 'lxml')\n",
    "\n",
    "# for tr in soup.find_all('tr', id='row_')"
   ]
  },
  {
   "cell_type": "code",
   "execution_count": 20,
   "metadata": {
    "execution": {
     "iopub.execute_input": "2020-11-01T08:18:23.260040Z",
     "iopub.status.busy": "2020-11-01T08:18:23.259750Z",
     "iopub.status.idle": "2020-11-01T08:18:23.265935Z",
     "shell.execute_reply": "2020-11-01T08:18:23.265027Z",
     "shell.execute_reply.started": "2020-11-01T08:18:23.260006Z"
    }
   },
   "outputs": [
    {
     "data": {
      "text/plain": [
       "<a href=\"#toc\" name=\"a\">A</a>"
      ]
     },
     "execution_count": 20,
     "metadata": {},
     "output_type": "execute_result"
    }
   ],
   "source": [
    "soup.find_all('a', href=\"#toc\")"
   ]
  },
  {
   "cell_type": "code",
   "execution_count": 35,
   "metadata": {
    "execution": {
     "iopub.execute_input": "2020-11-01T08:23:01.741782Z",
     "iopub.status.busy": "2020-11-01T08:23:01.741556Z",
     "iopub.status.idle": "2020-11-01T08:23:01.746357Z",
     "shell.execute_reply": "2020-11-01T08:23:01.745553Z",
     "shell.execute_reply.started": "2020-11-01T08:23:01.741759Z"
    }
   },
   "outputs": [
    {
     "data": {
      "text/plain": [
       "'\\r\\na , able , about , account , acid , across , act , addition , adjustment , advertisement ,\\r\\n after , again , against , agreement , air , all , almost ,\\r\\namong , amount , amusement ,  and , angle , angry , animal , answer , ant , any ,\\r\\napparatus , apple , approval , arch , argument , arm , army , art , as ,\\r\\nat , attack , attempt , attention , attraction , authority  , automatic , awake .\\r\\n\\r\\n'"
      ]
     },
     "execution_count": 35,
     "metadata": {},
     "output_type": "execute_result"
    }
   ],
   "source": [
    "''.join(soup.find_all('br')[1].next_siblings)"
   ]
  },
  {
   "cell_type": "code",
   "execution_count": 3,
   "metadata": {
    "collapsed": true,
    "execution": {
     "iopub.execute_input": "2020-11-01T07:54:47.405735Z",
     "iopub.status.busy": "2020-11-01T07:54:47.405505Z",
     "iopub.status.idle": "2020-11-01T07:54:47.416656Z",
     "shell.execute_reply": "2020-11-01T07:54:47.415966Z",
     "shell.execute_reply.started": "2020-11-01T07:54:47.405712Z"
    },
    "jupyter": {
     "outputs_hidden": true
    }
   },
   "outputs": [
    {
     "data": {
      "text/plain": [
       "<!DOCTYPE html PUBLIC \"-//IETF//DTD HTML//EN\">\n",
       "<html>\n",
       "<head>\n",
       "<title>Ogden's Basic English Words</title>\n",
       "<meta content=\"text/html; charset=utf-8\" http-equiv=\"Content-Type\"/>\n",
       "<meta content=\"James L Bauer\" name=\"AUTHOR\"/>\n",
       "<meta content=\"Basic English is a simplified version of English language created by Charles Kay Ogden. Here are the 850 words in his order.\" name=\"DESCRIPTION\"/>\n",
       "<meta content=\"Basic English, Ogden's Basic English, Auxiliary Language, International Language, International Auxiliary Language,\n",
       "Ogden, Charles Ogden, Charles K Ogden, Charles K. Ogden, Charles Kay Ogden,\n",
       "C. K. Ogden, C K Ogden, I. A. Richards, I A Richards, Ivor Richards, 850 words,\n",
       "language, languages, English language, learning English\" name=\"KEYWORDS\"/>\n",
       "<link href=\"basiceng.css\" rel=\"StyleSheet\" type=\"text/css\"/>\n",
       "<link href=\"favicon.gif\" rel=\"icon\" type=\"image/gif\"/>\n",
       "</head>\n",
       "<body leftmargin=\"100\" rightmargin=\"200\">\n",
       "<img align=\"left\" alt=\"logo\" border=\"0\" src=\"gif/logo.gif\"/>\n",
       "<h2 align=\"center\">\n",
       "Odgen's BASIC ENGLISH VOCABULARY<br/><font size=\"4\">Word List - in His Order</font><hr color=\"maroon\" width=\"50%\"/></h2>\n",
       "<ul> <font size=\"4\">\n",
       "<h3>OPERATIONS - 100 words</h3>\n",
       "<p>come, get, give, go, keep, let, make, put, seem, take,\n",
       "be, do, have, say, see, send, may, will,\n",
       "<br/>about, across, after, against, among, at, before, between, by,\n",
       "down, from, in, off, on, over, through, to, under, up, with,\n",
       "<br/>as, for, of, till, than,\n",
       "<br/>a , the, all, any, every, little, much, no, other, some, such, that, this,\n",
       "I , he, you, who,\n",
       "<br/>and, because, but, or, if, though, while, how, when, where, why,\n",
       "<br/>again, ever, far, forward, here, near, now, out, still, then,\n",
       "there, together,  well,\n",
       "<br/>almost, enough, even,  not, only, quite, so, very,\n",
       "tomorrow, yesterday,\n",
       "<br/>north, south, east, west, please, yes .\n",
       "</p><h3>THINGS - 400 General words</h3>\n",
       "account, act, addition, adjustment, advertisement, agreement, air,\n",
       " amount, amusement, animal, answer, apparatus, approval, argument, art,\n",
       " attack, attempt, attention, attraction, authority,\n",
       "back, balance, base, behavior, belief, birth, bit, bite, blood, blow,\n",
       " body, brass, bread, breath, brother, building, burn, burst, business,\n",
       " butter,\n",
       "canvas, care, cause, chalk, chance, change, cloth, coal, color, comfort,\n",
       " committee, company, comparison, competition, condition, connection,\n",
       " control, cook, copper, copy, cork, cotton, cough, country, cover,\n",
       " crack, credit, crime, crush, cry, current, curve,\n",
       "damage, danger, daughter, day, death, debt, decision, degree, design,\n",
       " desire, destruction, detail, development, digestion, direction,\n",
       " discovery, discussion, disease, disgust, distance,\n",
       " distribution, division, doubt, drink, driving, dust,\n",
       "earth, edge, education, effect, end, error, event, example, exchange,\n",
       " existence, expansion, experience, expert,\n",
       "fact, fall, family, father, fear, feeling, fiction, field, fight, fire,\n",
       " flame, flight, flower, fold, food, force, form, friend, front, fruit,\n",
       "glass, gold, government, grain, grass, grip, group, growth, guide,\n",
       "harbor, harmony, hate, hearing, heat, help, history, hole, hope, hour,  humor,\n",
       "ice, idea, impulse, increase, industry, ink, insect, instrument,\n",
       " insurance, interest, invention, iron,\n",
       "jelly, join, journey, judge, jump,\n",
       "kick, kiss, knowledge,\n",
       "land, language, laugh, law, lead, learning, leather, letter, level,\n",
       " lift, light, limit, linen, liquid, list, look, loss, love,\n",
       "machine, man, manager, mark, market, mass, meal, measure, meat, meeting,\n",
       " memory, metal, middle, milk, mind, mine, minute, mist, money, month,\n",
       " morning ,mother, motion, mountain, move, music,\n",
       "name, nation, need, news, night, noise, note, number,\n",
       "observation, offer, oil, operation, opinion, order, organization,\n",
       " ornament, owner,\n",
       "page, pain, paint, paper, part, paste, payment, peace, person, place,\n",
       " plant, play, pleasure, point, poison, polish, porter, position, powder,\n",
       " power, price, print, process, produce, profit, property,\n",
       " prose, protest, pull, punishment, purpose, push,\n",
       "quality, question,\n",
       "rain, range, rate, ray, reaction, reading, reason, record, regret, relation, religion,\n",
       " representative, request, respect, rest, reward, rhythm, rice, river,\n",
       " road, roll, room, rub, rule, run,\n",
       "salt, sand, scale, science, sea, seat, secretary, selection, self, sense, servant, sex,\n",
       " shade, shake, shame, shock, side, sign, silk, silver, sister, size, sky, sleep, slip, slope,\n",
       " smash, smell, smile, smoke, sneeze, snow, soap, society, son, song, sort, sound, soup,\n",
       " space, stage, start, statement, steam, steel, step, stitch, stone, stop, story, stretch,\n",
       " structure, substance, sugar, suggestion, summer, support, surprise, swim, system,\n",
       "talk, taste, tax, teaching, tendency, test, theory, thing, thought, thunder,\n",
       " time, tin, top, touch, trade, transport, trick, trouble, turn, twist,\n",
       "unit, use, value, verse, vessel, view, voice,\n",
       "walk, war, wash, waste, water, wave, wax, way, weather, week, weight,\n",
       " wind, wine, winter, woman, wood, wool, word, work, wound, writing ,\n",
       "year .\n",
       "<h3>THINGS - 200 Picturable words - <font size=\"-1\"><a href=\"wordpic0.html\">picture list</a></font></h3>\n",
       "angle, ant, apple, arch, arm, army,\n",
       "baby, bag, ball, band, basin, basket, bath, bed, bee, bell, berry, bird,\n",
       " blade, board, boat, bone, book, boot, bottle, box, boy, brain, brake,\n",
       " branch, brick, bridge, brush, bucket, bulb, button,\n",
       "cake, camera, card, cart, carriage, cat, chain, cheese, chest, chin,\n",
       " church, circle, clock, cloud, coat, collar, comb, cord, cow, cup,\n",
       " curtain, cushion,\n",
       "dog, door, drain, drawer, dress, drop,\n",
       "ear, egg, engine, eye,\n",
       "face, farm, feather, finger, fish, flag, floor, fly, foot, fork, fowl, frame,\n",
       "garden, girl, glove, goat, gun,\n",
       "hair, hammer, hand, hat, head, heart, hook, horn, horse, hospital, house,\n",
       "island, jewel,\n",
       "kettle, key, knee, knife, knot,\n",
       "leaf, leg, library, line, lip, lock,\n",
       "map, match, monkey, moon, mouth, muscle,\n",
       "nail, neck, needle, nerve, net, nose, nut,\n",
       "office, orange, oven,\n",
       "parcel, pen, pencil, picture, pig, pin, pipe, plane, plate, plough/plow,\n",
       " pocket, pot, potato, prison, pump,\n",
       "rail, rat, receipt, ring, rod, roof, root,\n",
       "sail, school, scissors, screw, seed, sheep, shelf, ship, shirt, shoe,\n",
       " skin, skirt, snake, sock, spade, sponge, spoon, spring, square, stamp,\n",
       " star, station, stem, stick, stocking, stomach, store, street, sun,\n",
       "table, tail, thread, throat, thumb, ticket, toe, tongue, tooth, town,\n",
       " train, tray, tree, trousers,\n",
       "umbrella,\n",
       "wall, watch, wheel, whip, whistle, window, wing, wire, worm .\n",
       "<h3>QUALITIES - 100 General</h3>\n",
       "able, acid, angry, automatic, beautiful, black, boiling, bright, broken, brown,\n",
       "cheap, chemical, chief, clean, clear, common, complex, conscious, cut,\n",
       "deep, dependent,\n",
       "early, elastic, electric, equal,\n",
       "fat, fertile, first, fixed, flat, free, frequent, full,\n",
       "general, good, great, grey/gray,\n",
       "hanging, happy, hard, healthy, high, hollow,\n",
       "important, kind,\n",
       "like, living, long,\n",
       "male, married, material, medical, military,\n",
       "natural, necessary, new, normal,\n",
       "open,\n",
       "parallel, past, physical, political, poor, possible, present, private,\n",
       " probable,\n",
       "quick, quiet,\n",
       "ready, red, regular, responsible, right, round,\n",
       "same, second, separate, serious, sharp, smooth, sticky, stiff, straight,\n",
       " strong, sudden, sweet,\n",
       "tall, thick, tight, tired, true,\n",
       "violent,\n",
       "waiting, warm, wet, wide, wise,\n",
       "yellow, young .\n",
       "<h3>QUALITIES - 50 Opposites</h3>\n",
       "awake, bad, bent, bitter, blue, certain, cold, complete, cruel,\n",
       "dark, dead, dear, delicate, different, dirty, dry,\n",
       "false, feeble, female, foolish, future,\n",
       "green, ill,\n",
       "last, late, left, loose, loud, low,\n",
       "mixed, narrow, old, opposite,\n",
       "public, rough,\n",
       "sad, safe, secret, short, shut, simple, slow, small, soft, solid,\n",
       "special, strange,\n",
       "thin, white, wrong .\n",
       "<hr color=\"maroon\"/>\n",
       "<h3>Link to Words in <a href=\"wordalph.html\">Alphabetic Sequence</a></h3>\n",
       "<hr color=\"maroon\"/><font class=\"f8\">\n",
       "Back to : <a href=\"http://ogden.basic-english.org/basiceng.html\">Ogden's Basic English</a>\n",
       "<br/>About this Page : <b>words.html</b> -- Ogden's Basic English 850 words in His sequence.\n",
       "<address>Last updated on January 1, 1996\n",
       "<br/>Contact us at <script language=\"javascript\"><!-- //\n",
       "var link   = \"E-mail\";\n",
       "var tag1   = \"mail\"; \t var tag2   = \"to:\";\n",
       "var email1 = \"%20manor1\"; var email2 = \"basic-english\";\n",
       "document.write(\"<a href=\" + tag1 + tag2 + email1 + \"@\" + email2 + \".org>\" + link + \"</a>\")\n",
       "//--> </script></address>\n",
       "URL: http://ogden.basic-english.org/words.html\n",
       "      <a href=\"http://ogden.basic-english.org/start.html\"><font color=\"gray\" size=\"1\">*</font></a>\n",
       "</font>\n",
       "</font></ul>\n",
       "</body>\n",
       "</html>"
      ]
     },
     "execution_count": 3,
     "metadata": {},
     "output_type": "execute_result"
    }
   ],
   "source": [
    "basic_dict = {}\n",
    "for h3 in soup.find_all('h3'):\n",
    "    basic_dict[f'{h3.text}']"
   ]
  },
  {
   "cell_type": "code",
   "execution_count": 38,
   "metadata": {
    "execution": {
     "iopub.execute_input": "2020-11-01T08:28:22.897099Z",
     "iopub.status.busy": "2020-11-01T08:28:22.896875Z",
     "iopub.status.idle": "2020-11-01T08:28:22.903696Z",
     "shell.execute_reply": "2020-11-01T08:28:22.903005Z",
     "shell.execute_reply.started": "2020-11-01T08:28:22.897076Z"
    }
   },
   "outputs": [],
   "source": [
    "basic_str = '''\n",
    "come, get, give, go, keep, let, make, put, seem, take, be, do, have, say, see, send, may, will,\n",
    "about, across, after, against, among, at, before, between, by, down, from, in, off, on, over, through, to, under, up, with,\n",
    "as, for, of, till, than,\n",
    "a , the, all, any, every, little, much, no, other, some, such, that, this, I , he, you, who,\n",
    "and, because, but, or, if, though, while, how, when, where, why,\n",
    "again, ever, far, forward, here, near, now, out, still, then, there, together, well,\n",
    "almost, enough, even, not, only, quite, so, very, tomorrow, yesterday,\n",
    "north, south, east, west, please, yes,\n",
    "account, act, addition, adjustment, advertisement, agreement, air, amount, amusement, animal, answer, apparatus, approval, argument, art, attack, attempt, attention, attraction, authority, back, balance, base, behavior, belief, birth, bit, bite, blood, blow, body, brass, bread, breath, brother, building, burn, burst, business, butter, canvas, care, cause, chalk, chance, change, cloth, coal, color, comfort, committee, company, comparison, competition, condition, connection, control, cook, copper, copy, cork, cotton, cough, country, cover, crack, credit, crime, crush, cry, current, curve, damage, danger, daughter, day, death, debt, decision, degree, design, desire, destruction, detail, development, digestion, direction, discovery, discussion, disease, disgust, distance, distribution, division, doubt, drink, driving, dust, earth, edge, education, effect, end, error, event, example, exchange, existence, expansion, experience, expert, fact, fall, family, father, fear, feeling, fiction, field, fight, fire, flame, flight, flower, fold, food, force, form, friend, front, fruit, glass, gold, government, grain, grass, grip, group, growth, guide, harbor, harmony, hate, hearing, heat, help, history, hole, hope, hour, humor, ice, idea, impulse, increase, industry, ink, insect, instrument, insurance, interest, invention, iron, jelly, join, journey, judge, jump, kick, kiss, knowledge, land, language, laugh, law, lead, learning, leather, letter, level, lift, light, limit, linen, liquid, list, look, loss, love, machine, man, manager, mark, market, mass, meal, measure, meat, meeting, memory, metal, middle, milk, mind, mine, minute, mist, money, month, morning ,mother, motion, mountain, move, music, name, nation, need, news, night, noise, note, number, observation, offer, oil, operation, opinion, order, organization, ornament, owner, page, pain, paint, paper, part, paste, payment, peace, person, place, plant, play, pleasure, point, poison, polish, porter, position, powder, power, price, print, process, produce, profit, property, prose, protest, pull, punishment, purpose, push, quality, question, rain, range, rate, ray, reaction, reading, reason, record, regret, relation, religion, representative, request, respect, rest, reward, rhythm, rice, river, road, roll, room, rub, rule, run, salt, sand, scale, science, sea, seat, secretary, selection, self, sense, servant, sex, shade, shake, shame, shock, side, sign, silk, silver, sister, size, sky, sleep, slip, slope, smash, smell, smile, smoke, sneeze, snow, soap, society, son, song, sort, sound, soup, space, stage, start, statement, steam, steel, step, stitch, stone, stop, story, stretch, structure, substance, sugar, suggestion, summer, support, surprise, swim, system, talk, taste, tax, teaching, tendency, test, theory, thing, thought, thunder, time, tin, top, touch, trade, transport, trick, trouble, turn, twist, unit, use, value, verse, vessel, view, voice, walk, war, wash, waste, water, wave, wax, way, weather, week, weight, wind, wine, winter, woman, wood, wool, word, work, wound, writing , year,\n",
    "angle, ant, apple, arch, arm, army, baby, bag, ball, band, basin, basket, bath, bed, bee, bell, berry, bird, blade, board, boat, bone, book, boot, bottle, box, boy, brain, brake, branch, brick, bridge, brush, bucket, bulb, button, cake, camera, card, cart, carriage, cat, chain, cheese, chest, chin, church, circle, clock, cloud, coat, collar, comb, cord, cow, cup, curtain, cushion, dog, door, drain, drawer, dress, drop, ear, egg, engine, eye, face, farm, feather, finger, fish, flag, floor, fly, foot, fork, fowl, frame, garden, girl, glove, goat, gun, hair, hammer, hand, hat, head, heart, hook, horn, horse, hospital, house, island, jewel, kettle, key, knee, knife, knot, leaf, leg, library, line, lip, lock, map, match, monkey, moon, mouth, muscle, nail, neck, needle, nerve, net, nose, nut, office, orange, oven, parcel, pen, pencil, picture, pig, pin, pipe, plane, plate, plough/plow, pocket, pot, potato, prison, pump, rail, rat, receipt, ring, rod, roof, root, sail, school, scissors, screw, seed, sheep, shelf, ship, shirt, shoe, skin, skirt, snake, sock, spade, sponge, spoon, spring, square, stamp, star, station, stem, stick, stocking, stomach, store, street, sun, table, tail, thread, throat, thumb, ticket, toe, tongue, tooth, town, train, tray, tree, trousers, umbrella, wall, watch, wheel, whip, whistle, window, wing, wire, worm,\n",
    "able, acid, angry, automatic, beautiful, black, boiling, bright, broken, brown, cheap, chemical, chief, clean, clear, common, complex, conscious, cut, deep, dependent, early, elastic, electric, equal, fat, fertile, first, fixed, flat, free, frequent, full, general, good, great, grey/gray, hanging, happy, hard, healthy, high, hollow, important, kind, like, living, long, male, married, material, medical, military, natural, necessary, new, normal, open, parallel, past, physical, political, poor, possible, present, private, probable, quick, quiet, ready, red, regular, responsible, right, round, same, second, separate, serious, sharp, smooth, sticky, stiff, straight, strong, sudden, sweet, tall, thick, tight, tired, true, violent, waiting, warm, wet, wide, wise, yellow, young,\n",
    "awake, bad, bent, bitter, blue, certain, cold, complete, cruel, dark, dead, dear, delicate, different, dirty, dry, false, feeble, female, foolish, future, green, ill, last, late, left, loose, loud, low, mixed, narrow, old, opposite, public, rough, sad, safe, secret, short, shut, simple, slow, small, soft, solid, special, strange, thin, white, wrong\n",
    "'''"
   ]
  },
  {
   "cell_type": "code",
   "execution_count": 43,
   "metadata": {
    "execution": {
     "iopub.execute_input": "2020-11-01T08:31:21.403559Z",
     "iopub.status.busy": "2020-11-01T08:31:21.403372Z",
     "iopub.status.idle": "2020-11-01T08:31:21.408656Z",
     "shell.execute_reply": "2020-11-01T08:31:21.408000Z",
     "shell.execute_reply.started": "2020-11-01T08:31:21.403539Z"
    }
   },
   "outputs": [],
   "source": [
    "basic_english_list = basic_str.replace('\\n', '').replace(' ','').split(',')"
   ]
  },
  {
   "cell_type": "code",
   "execution_count": 44,
   "metadata": {
    "execution": {
     "iopub.execute_input": "2020-11-01T08:32:06.770497Z",
     "iopub.status.busy": "2020-11-01T08:32:06.770258Z",
     "iopub.status.idle": "2020-11-01T08:32:07.631998Z",
     "shell.execute_reply": "2020-11-01T08:32:07.631401Z",
     "shell.execute_reply.started": "2020-11-01T08:32:06.770474Z"
    }
   },
   "outputs": [],
   "source": [
    "import pickle\n",
    "pd.to_pickle(basic_english_list,'basic_english_list')"
   ]
  },
  {
   "cell_type": "code",
   "execution_count": null,
   "metadata": {},
   "outputs": [],
   "source": []
  }
 ],
 "metadata": {
  "kernelspec": {
   "display_name": "Python [conda env:metis] *",
   "language": "python",
   "name": "conda-env-metis-py"
  },
  "language_info": {
   "codemirror_mode": {
    "name": "ipython",
    "version": 3
   },
   "file_extension": ".py",
   "mimetype": "text/x-python",
   "name": "python",
   "nbconvert_exporter": "python",
   "pygments_lexer": "ipython3",
   "version": "3.8.5"
  }
 },
 "nbformat": 4,
 "nbformat_minor": 4
}
